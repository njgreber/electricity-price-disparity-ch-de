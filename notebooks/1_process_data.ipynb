{
 "cells": [
  {
   "cell_type": "markdown",
   "metadata": {},
   "source": [
    "# Data Processing\n",
    "\n",
    "This notebook automates the process of analyzing cross-border electricity trading data between Switzerland and Germany. It does so by:\n",
    "\n",
    "- Fetching auction data from the Joint Allocation Office (JAO) API.\n",
    "- Loading day-ahead price data for bidding zones (e.g., CH, DE-LU).\n",
    "- Combining data into a unified DataFrame for further analysis.\n",
    "- Ensuring the final dataset is sorted by timestamp.\n",
    "- Saving the processed data for further analysis.\n",
    "\n",
    "### Key Data Sources:\n",
    "1. JAO API: Auction prices and capacities for cross-border electricity trading.\n",
    "2. Entso-e Transparency Platform: Day-ahead market prices for relevant bidding zones.\n",
    "\n",
    "### Outputs:\n",
    "The processed data is saved as a CSV file (`merged_data.csv`) in the `data/processed` folder for downstream analysis.\n",
    "\n",
    "### API Key:\n",
    "API KEY: Define your API key (make a file in src/config.py with KEY = 'your_api_key' provided by JAO)"
   ]
  },
  {
   "cell_type": "markdown",
   "metadata": {},
   "source": [
    "### Import Required Packages\n",
    "The necessary Python packages for data processing and API interaction are imported in this step."
   ]
  },
  {
   "cell_type": "code",
   "execution_count": 1,
   "metadata": {
    "execution": {
     "iopub.execute_input": "2024-12-10T20:49:57.771302Z",
     "iopub.status.busy": "2024-12-10T20:49:57.770919Z",
     "iopub.status.idle": "2024-12-10T20:49:58.011848Z",
     "shell.execute_reply": "2024-12-10T20:49:58.011489Z"
    }
   },
   "outputs": [],
   "source": [
    "import sys; sys.path.append(\"..\")\n",
    "\n",
    "import pandas as pd\n",
    "import requests\n",
    "import ast\n",
    "from datetime import datetime, timedelta\n",
    "from calendar import monthrange\n",
    "import os"
   ]
  },
  {
   "cell_type": "markdown",
   "metadata": {},
   "source": [
    "### Import Project-Specific Functions\n",
    "These include custom functions for fetching auction data, loading price series, and accessing API keys stored in configuration files."
   ]
  },
  {
   "cell_type": "code",
   "execution_count": 2,
   "metadata": {
    "execution": {
     "iopub.execute_input": "2024-12-10T20:49:58.013143Z",
     "iopub.status.busy": "2024-12-10T20:49:58.013010Z",
     "iopub.status.idle": "2024-12-10T20:49:58.019702Z",
     "shell.execute_reply": "2024-12-10T20:49:58.019420Z"
    }
   },
   "outputs": [],
   "source": [
    "# Import the fetch_auction_data function\n",
    "from src.datafeed.upstream import fetch_auction_data\n",
    "from src.datafeed.downstream import load_price_series\n",
    "from src.config import KEY"
   ]
  },
  {
   "cell_type": "markdown",
   "metadata": {},
   "source": [
    "### Define Constants\n",
    "- API key for accessing JAO data.\n",
    "- Bidding zones (e.g., CH, DE-LU, DE-AT-LU) to analyze.\n",
    "- Cross-border trading corridors for analysis.\n",
    "- Start and end years for data fetching.\n",
    "Make sure the `KEY` is defined in the `src/config.py` file as described in the project's README."
   ]
  },
  {
   "cell_type": "code",
   "execution_count": 3,
   "metadata": {
    "execution": {
     "iopub.execute_input": "2024-12-10T20:49:58.020916Z",
     "iopub.status.busy": "2024-12-10T20:49:58.020627Z",
     "iopub.status.idle": "2024-12-10T20:49:58.023698Z",
     "shell.execute_reply": "2024-12-10T20:49:58.023454Z"
    }
   },
   "outputs": [
    {
     "data": {
      "text/plain": [
       "' FOR THE MOCK DATA, USE THIS CODE BELOW AND COMMENT OUT RESPECTIVE CODE ABOVE '"
      ]
     },
     "execution_count": 3,
     "metadata": {},
     "output_type": "execute_result"
    }
   ],
   "source": [
    "\n",
    "api_key = KEY\n",
    "\n",
    "# Set the start and end years\n",
    "start_year = 2016\n",
    "end_year = 2023\n",
    "\n",
    "# Define the bidding zones and years to analyze. This data needs to be downloaded from Entso-e Transparency Platform (see the README.md for more information)\n",
    "bidding_zones = ['CH', 'DE-LU', 'DE-AT-LU']\n",
    "\n",
    "# cross-border trading corridors (which will be downloaded from JAO, provided the API key in config.py)\n",
    "corridors = [\"de-ch\", \"ch-de\"] # can be exchanged with different pairs. visit jao.eu for more information\n",
    "\n",
    "\"\"\" FOR THE MOCK DATA, USE THIS CODE BELOW AND COMMENT OUT RESPECTIVE CODE ABOVE \"\"\"\n",
    "#bidding_zones = ['TEST1', 'TEST2']\n",
    "#corridors = [\"TEST1-TEST2\"]\n"
   ]
  },
  {
   "cell_type": "markdown",
   "metadata": {},
   "source": [
    "### Fetch Auction Data from JAO API\n",
    "This step downloads cross-border electricity trading auction data for the specified corridors and years from JAO API."
   ]
  },
  {
   "cell_type": "code",
   "execution_count": 4,
   "metadata": {
    "execution": {
     "iopub.execute_input": "2024-12-10T20:49:58.024554Z",
     "iopub.status.busy": "2024-12-10T20:49:58.024457Z",
     "iopub.status.idle": "2024-12-10T20:55:56.957594Z",
     "shell.execute_reply": "2024-12-10T20:55:56.956925Z"
    }
   },
   "outputs": [
    {
     "name": "stderr",
     "output_type": "stream",
     "text": [
      "/Users/research/Desktop/Desktop - Nicolas’s MacBook Air/repos/electricity-price-disparity-ch-de/notebooks/../src/datafeed/upstream.py:78: FutureWarning: The behavior of DataFrame concatenation with empty or all-NA entries is deprecated. In a future version, this will no longer exclude empty or all-NA columns when determining the result dtypes. To retain the old behavior, exclude the relevant entries before the concat operation.\n",
      "  combined_df = pd.concat(dfs, ignore_index=True)\n"
     ]
    },
    {
     "name": "stdout",
     "output_type": "stream",
     "text": [
      "         date  productHour  de-ch_auctionPrice  de-ch_requestedCapacity  \\\n",
      "0  2016-01-02  00:00-01:00               14.88                   1389.0   \n",
      "1  2016-01-02  01:00-02:00               13.96                   1388.0   \n",
      "2  2016-01-02  02:00-03:00               13.04                   1388.0   \n",
      "3  2016-01-02  03:00-04:00               13.54                   1388.0   \n",
      "4  2016-01-02  04:00-05:00               13.73                   1398.0   \n",
      "\n",
      "   de-ch_offeredCapacity  \n",
      "0                  313.0  \n",
      "1                  313.0  \n",
      "2                  313.0  \n",
      "3                  313.0  \n",
      "4                  313.0  \n"
     ]
    },
    {
     "name": "stderr",
     "output_type": "stream",
     "text": [
      "/Users/research/Desktop/Desktop - Nicolas’s MacBook Air/repos/electricity-price-disparity-ch-de/notebooks/../src/datafeed/upstream.py:78: FutureWarning: The behavior of DataFrame concatenation with empty or all-NA entries is deprecated. In a future version, this will no longer exclude empty or all-NA columns when determining the result dtypes. To retain the old behavior, exclude the relevant entries before the concat operation.\n",
      "  combined_df = pd.concat(dfs, ignore_index=True)\n"
     ]
    },
    {
     "name": "stdout",
     "output_type": "stream",
     "text": [
      "         date  productHour  ch-de_auctionPrice  ch-de_requestedCapacity  \\\n",
      "0  2016-01-02  00:00-01:00                 0.0                   3016.0   \n",
      "1  2016-01-02  01:00-02:00                 0.0                   3015.0   \n",
      "2  2016-01-02  02:00-03:00                 0.0                   3015.0   \n",
      "3  2016-01-02  03:00-04:00                 0.0                   3015.0   \n",
      "4  2016-01-02  04:00-05:00                 0.0                   3015.0   \n",
      "\n",
      "   ch-de_offeredCapacity  \n",
      "0                 4273.0  \n",
      "1                 4273.0  \n",
      "2                 4273.0  \n",
      "3                 4273.0  \n",
      "4                 4273.0  \n"
     ]
    }
   ],
   "source": [
    "try:\n",
    "    from src.config import KEY  # Ensure the API key is available in the configuration.\n",
    "except ImportError:\n",
    "    KEY = None  # Fallback if not available.\n",
    "\n",
    "# Check if actual corridors are being used\n",
    "if corridors != [\"TEST1-TEST2\"]:\n",
    "    for corridor in corridors:\n",
    "        # Call the function to fetch and process the data\n",
    "        auction_data = fetch_auction_data(start_year, end_year, api_key, corridor)\n",
    "\n",
    "        # Optionally, display the first few rows of the combined DataFrame\n",
    "        print(auction_data.head())  # Display the data for verification\n",
    "else:\n",
    "    print(\"Using mock data. No API calls will be made.\")\n"
   ]
  },
  {
   "cell_type": "markdown",
   "metadata": {},
   "source": [
    "### Load Day-Ahead Prices and Combine Data\n",
    "This step:\n",
    "- Loads price series for each bidding zone (CH, DE-LU, DE-AT-LU).\n",
    "- Ensures timestamps from all zones are unified.\n",
    "- Combines auction and price data into a single DataFrame.\n",
    "\n",
    "Notice that Missing dataframes is expected! Could be that the data does not exist for that period, which is e.g. the case for DE-AT-LU after 2018. "
   ]
  },
  {
   "cell_type": "code",
   "execution_count": null,
   "metadata": {
    "execution": {
     "iopub.execute_input": "2024-12-10T20:55:56.961905Z",
     "iopub.status.busy": "2024-12-10T20:55:56.961786Z",
     "iopub.status.idle": "2024-12-10T20:55:58.186413Z",
     "shell.execute_reply": "2024-12-10T20:55:58.185847Z"
    }
   },
   "outputs": [
    {
     "name": "stdout",
     "output_type": "stream",
     "text": [
      "Missing ../data/raw/DE-LU_Day-ahead Prices_2016.csv: [Errno 2] No such file or directory: '../data/raw/DE-LU_Day-ahead Prices_2016.csv'\n",
      "Missing ../data/raw/DE-LU_Day-ahead Prices_2017.csv: [Errno 2] No such file or directory: '../data/raw/DE-LU_Day-ahead Prices_2017.csv'\n",
      "Missing ../data/raw/DE-AT-LU_Day-ahead Prices_2019.csv: [Errno 2] No such file or directory: '../data/raw/DE-AT-LU_Day-ahead Prices_2019.csv'\n",
      "Missing ../data/raw/DE-AT-LU_Day-ahead Prices_2020.csv: [Errno 2] No such file or directory: '../data/raw/DE-AT-LU_Day-ahead Prices_2020.csv'\n",
      "Missing ../data/raw/DE-AT-LU_Day-ahead Prices_2021.csv: [Errno 2] No such file or directory: '../data/raw/DE-AT-LU_Day-ahead Prices_2021.csv'\n",
      "Missing ../data/raw/DE-AT-LU_Day-ahead Prices_2022.csv: [Errno 2] No such file or directory: '../data/raw/DE-AT-LU_Day-ahead Prices_2022.csv'\n",
      "Missing ../data/raw/DE-AT-LU_Day-ahead Prices_2023.csv: [Errno 2] No such file or directory: '../data/raw/DE-AT-LU_Day-ahead Prices_2023.csv'\n"
     ]
    },
    {
     "data": {
      "text/html": [
       "<div>\n",
       "<style scoped>\n",
       "    .dataframe tbody tr th:only-of-type {\n",
       "        vertical-align: middle;\n",
       "    }\n",
       "\n",
       "    .dataframe tbody tr th {\n",
       "        vertical-align: top;\n",
       "    }\n",
       "\n",
       "    .dataframe thead th {\n",
       "        text-align: right;\n",
       "    }\n",
       "</style>\n",
       "<table border=\"1\" class=\"dataframe\">\n",
       "  <thead>\n",
       "    <tr style=\"text-align: right;\">\n",
       "      <th></th>\n",
       "      <th>CH</th>\n",
       "      <th>DE-LU</th>\n",
       "      <th>DE-AT-LU</th>\n",
       "      <th>de-ch_auctionPrice</th>\n",
       "      <th>de-ch_requestedCapacity</th>\n",
       "      <th>de-ch_offeredCapacity</th>\n",
       "      <th>ch-de_auctionPrice</th>\n",
       "      <th>ch-de_requestedCapacity</th>\n",
       "      <th>ch-de_offeredCapacity</th>\n",
       "    </tr>\n",
       "  </thead>\n",
       "  <tbody>\n",
       "    <tr>\n",
       "      <th>2016-01-01 00:00:00</th>\n",
       "      <td>41.09</td>\n",
       "      <td>NaN</td>\n",
       "      <td>23.86</td>\n",
       "      <td>9.26</td>\n",
       "      <td>1663.0</td>\n",
       "      <td>392.0</td>\n",
       "      <td>0.00</td>\n",
       "      <td>2542.0</td>\n",
       "      <td>4194.0</td>\n",
       "    </tr>\n",
       "    <tr>\n",
       "      <th>2016-01-01 01:00:00</th>\n",
       "      <td>40.16</td>\n",
       "      <td>NaN</td>\n",
       "      <td>22.39</td>\n",
       "      <td>8.50</td>\n",
       "      <td>1678.0</td>\n",
       "      <td>392.0</td>\n",
       "      <td>0.00</td>\n",
       "      <td>2542.0</td>\n",
       "      <td>4194.0</td>\n",
       "    </tr>\n",
       "    <tr>\n",
       "      <th>2016-01-01 02:00:00</th>\n",
       "      <td>36.03</td>\n",
       "      <td>NaN</td>\n",
       "      <td>20.59</td>\n",
       "      <td>8.87</td>\n",
       "      <td>1678.0</td>\n",
       "      <td>392.0</td>\n",
       "      <td>0.00</td>\n",
       "      <td>2542.0</td>\n",
       "      <td>4194.0</td>\n",
       "    </tr>\n",
       "    <tr>\n",
       "      <th>2016-01-01 03:00:00</th>\n",
       "      <td>33.59</td>\n",
       "      <td>NaN</td>\n",
       "      <td>16.81</td>\n",
       "      <td>7.50</td>\n",
       "      <td>1678.0</td>\n",
       "      <td>392.0</td>\n",
       "      <td>0.00</td>\n",
       "      <td>2542.0</td>\n",
       "      <td>4194.0</td>\n",
       "    </tr>\n",
       "    <tr>\n",
       "      <th>2016-01-01 04:00:00</th>\n",
       "      <td>32.92</td>\n",
       "      <td>NaN</td>\n",
       "      <td>17.41</td>\n",
       "      <td>10.02</td>\n",
       "      <td>1668.0</td>\n",
       "      <td>392.0</td>\n",
       "      <td>0.00</td>\n",
       "      <td>2542.0</td>\n",
       "      <td>4194.0</td>\n",
       "    </tr>\n",
       "    <tr>\n",
       "      <th>...</th>\n",
       "      <td>...</td>\n",
       "      <td>...</td>\n",
       "      <td>...</td>\n",
       "      <td>...</td>\n",
       "      <td>...</td>\n",
       "      <td>...</td>\n",
       "      <td>...</td>\n",
       "      <td>...</td>\n",
       "      <td>...</td>\n",
       "    </tr>\n",
       "    <tr>\n",
       "      <th>2023-12-31 19:00:00</th>\n",
       "      <td>23.40</td>\n",
       "      <td>9.0</td>\n",
       "      <td>NaN</td>\n",
       "      <td>2.34</td>\n",
       "      <td>3552.0</td>\n",
       "      <td>530.0</td>\n",
       "      <td>0.05</td>\n",
       "      <td>11596.0</td>\n",
       "      <td>4270.0</td>\n",
       "    </tr>\n",
       "    <tr>\n",
       "      <th>2023-12-31 20:00:00</th>\n",
       "      <td>20.65</td>\n",
       "      <td>7.95</td>\n",
       "      <td>NaN</td>\n",
       "      <td>2.34</td>\n",
       "      <td>3701.0</td>\n",
       "      <td>530.0</td>\n",
       "      <td>0.00</td>\n",
       "      <td>11381.0</td>\n",
       "      <td>4270.0</td>\n",
       "    </tr>\n",
       "    <tr>\n",
       "      <th>2023-12-31 21:00:00</th>\n",
       "      <td>9.58</td>\n",
       "      <td>6.0</td>\n",
       "      <td>NaN</td>\n",
       "      <td>3.45</td>\n",
       "      <td>3701.0</td>\n",
       "      <td>530.0</td>\n",
       "      <td>0.00</td>\n",
       "      <td>11381.0</td>\n",
       "      <td>4270.0</td>\n",
       "    </tr>\n",
       "    <tr>\n",
       "      <th>2023-12-31 22:00:00</th>\n",
       "      <td>16.78</td>\n",
       "      <td>10.68</td>\n",
       "      <td>NaN</td>\n",
       "      <td>3.54</td>\n",
       "      <td>3681.0</td>\n",
       "      <td>530.0</td>\n",
       "      <td>0.00</td>\n",
       "      <td>11381.0</td>\n",
       "      <td>4270.0</td>\n",
       "    </tr>\n",
       "    <tr>\n",
       "      <th>2023-12-31 23:00:00</th>\n",
       "      <td>9.51</td>\n",
       "      <td>2.44</td>\n",
       "      <td>NaN</td>\n",
       "      <td>3.78</td>\n",
       "      <td>3684.0</td>\n",
       "      <td>530.0</td>\n",
       "      <td>0.00</td>\n",
       "      <td>11382.0</td>\n",
       "      <td>4270.0</td>\n",
       "    </tr>\n",
       "  </tbody>\n",
       "</table>\n",
       "<p>70128 rows × 9 columns</p>\n",
       "</div>"
      ],
      "text/plain": [
       "                        CH  DE-LU DE-AT-LU  de-ch_auctionPrice  \\\n",
       "2016-01-01 00:00:00  41.09    NaN    23.86                9.26   \n",
       "2016-01-01 01:00:00  40.16    NaN    22.39                8.50   \n",
       "2016-01-01 02:00:00  36.03    NaN    20.59                8.87   \n",
       "2016-01-01 03:00:00  33.59    NaN    16.81                7.50   \n",
       "2016-01-01 04:00:00  32.92    NaN    17.41               10.02   \n",
       "...                    ...    ...      ...                 ...   \n",
       "2023-12-31 19:00:00  23.40    9.0      NaN                2.34   \n",
       "2023-12-31 20:00:00  20.65   7.95      NaN                2.34   \n",
       "2023-12-31 21:00:00   9.58    6.0      NaN                3.45   \n",
       "2023-12-31 22:00:00  16.78  10.68      NaN                3.54   \n",
       "2023-12-31 23:00:00   9.51   2.44      NaN                3.78   \n",
       "\n",
       "                     de-ch_requestedCapacity  de-ch_offeredCapacity  \\\n",
       "2016-01-01 00:00:00                   1663.0                  392.0   \n",
       "2016-01-01 01:00:00                   1678.0                  392.0   \n",
       "2016-01-01 02:00:00                   1678.0                  392.0   \n",
       "2016-01-01 03:00:00                   1678.0                  392.0   \n",
       "2016-01-01 04:00:00                   1668.0                  392.0   \n",
       "...                                      ...                    ...   \n",
       "2023-12-31 19:00:00                   3552.0                  530.0   \n",
       "2023-12-31 20:00:00                   3701.0                  530.0   \n",
       "2023-12-31 21:00:00                   3701.0                  530.0   \n",
       "2023-12-31 22:00:00                   3681.0                  530.0   \n",
       "2023-12-31 23:00:00                   3684.0                  530.0   \n",
       "\n",
       "                     ch-de_auctionPrice  ch-de_requestedCapacity  \\\n",
       "2016-01-01 00:00:00                0.00                   2542.0   \n",
       "2016-01-01 01:00:00                0.00                   2542.0   \n",
       "2016-01-01 02:00:00                0.00                   2542.0   \n",
       "2016-01-01 03:00:00                0.00                   2542.0   \n",
       "2016-01-01 04:00:00                0.00                   2542.0   \n",
       "...                                 ...                      ...   \n",
       "2023-12-31 19:00:00                0.05                  11596.0   \n",
       "2023-12-31 20:00:00                0.00                  11381.0   \n",
       "2023-12-31 21:00:00                0.00                  11381.0   \n",
       "2023-12-31 22:00:00                0.00                  11381.0   \n",
       "2023-12-31 23:00:00                0.00                  11382.0   \n",
       "\n",
       "                     ch-de_offeredCapacity  \n",
       "2016-01-01 00:00:00                 4194.0  \n",
       "2016-01-01 01:00:00                 4194.0  \n",
       "2016-01-01 02:00:00                 4194.0  \n",
       "2016-01-01 03:00:00                 4194.0  \n",
       "2016-01-01 04:00:00                 4194.0  \n",
       "...                                    ...  \n",
       "2023-12-31 19:00:00                 4270.0  \n",
       "2023-12-31 20:00:00                 4270.0  \n",
       "2023-12-31 21:00:00                 4270.0  \n",
       "2023-12-31 22:00:00                 4270.0  \n",
       "2023-12-31 23:00:00                 4270.0  \n",
       "\n",
       "[70128 rows x 9 columns]"
      ]
     },
     "execution_count": 5,
     "metadata": {},
     "output_type": "execute_result"
    }
   ],
   "source": [
    "# Define a range of years from start_year to end_year (inclusive)\n",
    "years = range(start_year, end_year + 1)\n",
    "\n",
    "# Dictionary to store price series for each zone\n",
    "price_series_dict = {}\n",
    "\n",
    "# Load price series for each bidding zone\n",
    "for zone in bidding_zones:\n",
    "    price_series_dict[zone] = load_price_series(zone, years)\n",
    "\n",
    "# Get unified set of timestamps from all zones\n",
    "all_timestamps = sorted(set().union(*(\n",
    "    series.index for series in price_series_dict.values()\n",
    ")))\n",
    "\n",
    "# Create and populate final DataFrame\n",
    "df_final = pd.DataFrame(index=all_timestamps)\n",
    "for zone, series in price_series_dict.items():\n",
    "    df_final[zone] = series\n",
    "\n",
    "# Loop through each corridor and add auction data to the final DataFrame\n",
    "for corridor in corridors:\n",
    "    # Load auction data for the specific corridor\n",
    "    auction_data = pd.read_csv(f\"../data/external/jao_{corridor}.csv\")\n",
    "    # Create a datetime column by combining the date and the start of the productHour range\n",
    "    auction_data['datetime'] = pd.to_datetime(\n",
    "        auction_data['date'] + ' ' + auction_data['productHour'].str.split('-').str[0]\n",
    "    )\n",
    "    # Drop duplicate rows based on the datetime column\n",
    "    auction_data = auction_data.drop_duplicates(subset=['datetime'])\n",
    "    # Set the datetime column as the index\n",
    "    auction_data = auction_data.set_index('datetime')\n",
    "\n",
    "    # Add auction-related columns to the final DataFrame\n",
    "    df_final[f\"{corridor}_auctionPrice\"] = auction_data[f\"{corridor}_auctionPrice\"]\n",
    "    df_final[f\"{corridor}_requestedCapacity\"] = auction_data[f\"{corridor}_requestedCapacity\"]\n",
    "    df_final[f\"{corridor}_offeredCapacity\"] = auction_data[f\"{corridor}_offeredCapacity\"]\n",
    "\n",
    "# Sort the final DataFrame by index (datetime)\n",
    "df_final.sort_index(inplace=True)\n",
    "\n",
    "#create folder \n",
    "processed_folder = '../data/processed'\n",
    "os.makedirs(processed_folder, exist_ok=True)\n",
    "\n",
    "# Save the final merged DataFrame to a CSV file for further analysis\n",
    "df_final.to_csv('../data/processed/merged_data.csv')\n",
    "\n",
    "# Display the final DataFrame\n",
    "df_final"
   ]
  }
 ],
 "metadata": {
  "kernelspec": {
   "display_name": "energy_project_uzh",
   "language": "python",
   "name": "python3"
  },
  "language_info": {
   "codemirror_mode": {
    "name": "ipython",
    "version": 3
   },
   "file_extension": ".py",
   "mimetype": "text/x-python",
   "name": "python",
   "nbconvert_exporter": "python",
   "pygments_lexer": "ipython3",
   "version": "3.10.16"
  }
 },
 "nbformat": 4,
 "nbformat_minor": 2
}

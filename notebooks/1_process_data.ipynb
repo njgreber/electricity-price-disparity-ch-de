{
 "cells": [
  {
   "cell_type": "markdown",
   "metadata": {},
   "source": [
    "# Data Processing\n",
    "\n",
    "This notebook automates the process of analyzing cross-border electricity trading data between Switzerland and Germany. It does so by:\n",
    "\n",
    "- Fetching auction data from the Joint Allocation Office (JAO) API.\n",
    "- Loading day-ahead price data for bidding zones (e.g., CH, DE-LU).\n",
    "- Combining data into a unified DataFrame for further analysis.\n",
    "- Ensuring the final dataset is sorted by timestamp.\n",
    "- Saving the processed data for further analysis.\n",
    "\n",
    "### Key Data Sources:\n",
    "1. JAO API: Auction prices and capacities for cross-border electricity trading.\n",
    "2. Entso-e Transparency Platform: Day-ahead market prices for relevant bidding zones.\n",
    "\n",
    "### Outputs:\n",
    "The processed data is saved as a CSV file (`merged_data.csv`) in the `data/processed` folder for downstream analysis."
   ]
  },
  {
   "cell_type": "markdown",
   "metadata": {},
   "source": [
    "### Import Required Packages\n",
    "The necessary Python packages for data processing and API interaction are imported in this step."
   ]
  },
  {
   "cell_type": "code",
   "execution_count": null,
   "metadata": {
    "execution": {
     "iopub.execute_input": "2024-12-09T12:46:57.973653Z",
     "iopub.status.busy": "2024-12-09T12:46:57.973292Z",
     "iopub.status.idle": "2024-12-09T12:46:58.200438Z",
     "shell.execute_reply": "2024-12-09T12:46:58.200021Z"
    }
   },
   "outputs": [],
   "source": [
    "import sys; sys.path.append(\"..\")\n",
    "\n",
    "import pandas as pd\n",
    "import requests\n",
    "import ast\n",
    "from datetime import datetime, timedelta\n",
    "from calendar import monthrange\n",
    "import os"
   ]
  },
  {
   "cell_type": "markdown",
   "metadata": {},
   "source": [
    "### Import Project-Specific Functions\n",
    "These include custom functions for fetching auction data, loading price series, and accessing API keys stored in configuration files."
   ]
  },
  {
   "cell_type": "code",
   "execution_count": null,
   "metadata": {
    "execution": {
     "iopub.execute_input": "2024-12-09T12:46:58.201649Z",
     "iopub.status.busy": "2024-12-09T12:46:58.201522Z",
     "iopub.status.idle": "2024-12-09T12:46:58.208280Z",
     "shell.execute_reply": "2024-12-09T12:46:58.207936Z"
    }
   },
   "outputs": [],
   "source": [
    "# Import the fetch_auction_data function\n",
    "from src.datafeed.upstream import fetch_auction_data\n",
    "from src.datafeed.downstream import load_price_series\n",
    "from src.config import KEY"
   ]
  },
  {
   "cell_type": "markdown",
   "metadata": {},
   "source": [
    "### Define Constants\n",
    "- API key for accessing JAO data.\n",
    "- Bidding zones (e.g., CH, DE-LU, DE-AT-LU) to analyze.\n",
    "- Cross-border trading corridors for analysis.\n",
    "- Start and end years for data fetching.\n",
    "Make sure the `KEY` is defined in the `src/config.py` file as described in the project's README."
   ]
  },
  {
   "cell_type": "code",
   "execution_count": null,
   "metadata": {
    "execution": {
     "iopub.execute_input": "2024-12-09T12:46:58.209200Z",
     "iopub.status.busy": "2024-12-09T12:46:58.209110Z",
     "iopub.status.idle": "2024-12-09T12:46:58.211183Z",
     "shell.execute_reply": "2024-12-09T12:46:58.210922Z"
    }
   },
   "outputs": [],
   "source": [
    "# Define your API key (make a file in src/config.py with KEY = 'your_api_key' provided by JAO)\n",
    "api_key = KEY\n",
    "\n",
    "# Set the start and end years\n",
    "start_year = 2016\n",
    "end_year = 2023\n",
    "\n",
    "# Define the bidding zones and years to analyze. This data needs to be downloaded from Entso-e Transparency Platform (see the README.md for more information)\n",
    "bidding_zones = ['CH', 'DE-LU', 'DE-AT-LU']\n",
    "\n",
    "# cross-border trading corridors (which will be downloaded from JAO, provided the API key in config.py)\n",
    "corridors = [\"de-ch\", \"ch-de\"] # can be exchanged with different pairs. visit jao.eu for more information"
   ]
  },
  {
   "cell_type": "markdown",
   "metadata": {},
   "source": [
    "### Fetch Auction Data from JAO API\n",
    "This step downloads cross-border electricity trading auction data for the specified corridors and years."
   ]
  },
  {
   "cell_type": "code",
   "execution_count": null,
   "metadata": {
    "execution": {
     "iopub.execute_input": "2024-12-09T12:46:58.212216Z",
     "iopub.status.busy": "2024-12-09T12:46:58.212115Z",
     "iopub.status.idle": "2024-12-09T12:49:34.073010Z",
     "shell.execute_reply": "2024-12-09T12:49:34.072626Z"
    }
   },
   "outputs": [],
   "source": [
    "for corridor in corridors:\n",
    "\n",
    "    # Call the function to fetch and process the data\n",
    "    auction_data = fetch_auction_data(start_year, end_year, api_key, corridor)\n",
    "\n",
    "    # Optionally, display the first few rows of the combined DataFrame\n",
    "    auction_data.head()\n"
   ]
  },
  {
   "cell_type": "markdown",
   "metadata": {},
   "source": [
    "### Load Day-Ahead Prices and Combine Data\n",
    "This step:\n",
    "- Loads price series for each bidding zone (CH, DE-LU, DE-AT-LU).\n",
    "- Ensures timestamps from all zones are unified.\n",
    "- Combines auction and price data into a single DataFrame."
   ]
  },
  {
   "cell_type": "code",
   "execution_count": null,
   "metadata": {
    "execution": {
     "iopub.execute_input": "2024-12-09T12:49:34.074332Z",
     "iopub.status.busy": "2024-12-09T12:49:34.074214Z",
     "iopub.status.idle": "2024-12-09T12:49:35.209939Z",
     "shell.execute_reply": "2024-12-09T12:49:35.209650Z"
    }
   },
   "outputs": [],
   "source": [
    "# Define a range of years from start_year to end_year (inclusive)\n",
    "years = range(start_year, end_year + 1)\n",
    "\n",
    "# Dictionary to store price series for each zone\n",
    "price_series_dict = {}\n",
    "\n",
    "# Load price series for each bidding zone\n",
    "for zone in bidding_zones:\n",
    "    price_series_dict[zone] = load_price_series(zone, years)\n",
    "\n",
    "# Get unified set of timestamps from all zones\n",
    "all_timestamps = sorted(set().union(*(\n",
    "    series.index for series in price_series_dict.values()\n",
    ")))\n",
    "\n",
    "# Create and populate final DataFrame\n",
    "df_final = pd.DataFrame(index=all_timestamps)\n",
    "for zone, series in price_series_dict.items():\n",
    "    df_final[zone] = series\n",
    "\n",
    "# Loop through each corridor and add auction data to the final DataFrame\n",
    "for corridor in corridors:\n",
    "    # Load auction data for the specific corridor\n",
    "    auction_data = pd.read_csv(f\"../data/external/jao_{corridor}.csv\")\n",
    "    # Create a datetime column by combining the date and the start of the productHour range\n",
    "    auction_data['datetime'] = pd.to_datetime(\n",
    "        auction_data['date'] + ' ' + auction_data['productHour'].str.split('-').str[0]\n",
    "    )\n",
    "    # Drop duplicate rows based on the datetime column\n",
    "    auction_data = auction_data.drop_duplicates(subset=['datetime'])\n",
    "    # Set the datetime column as the index\n",
    "    auction_data = auction_data.set_index('datetime')\n",
    "\n",
    "    # Add auction-related columns to the final DataFrame\n",
    "    df_final[f\"{corridor}_auctionPrice\"] = auction_data[f\"{corridor}_auctionPrice\"]\n",
    "    df_final[f\"{corridor}_requestedCapacity\"] = auction_data[f\"{corridor}_requestedCapacity\"]\n",
    "    df_final[f\"{corridor}_offeredCapacity\"] = auction_data[f\"{corridor}_offeredCapacity\"]\n",
    "\n",
    "# Sort the final DataFrame by index (datetime)\n",
    "df_final.sort_index(inplace=True)\n",
    "\n",
    "#create folder \n",
    "processed_folder = '../data/processed'\n",
    "os.makedirs(processed_folder, exist_ok=True)\n",
    "\n",
    "# Save the final merged DataFrame to a CSV file for further analysis\n",
    "df_final.to_csv('../data/processed/merged_data.csv')\n",
    "\n",
    "# Display the final DataFrame\n",
    "df_final"
   ]
  }
 ],
 "metadata": {
  "kernelspec": {
   "display_name": "energy_project_uzh",
   "language": "python",
   "name": "python3"
  },
  "language_info": {
   "codemirror_mode": {
    "name": "ipython",
    "version": 3
   },
   "file_extension": ".py",
   "mimetype": "text/x-python",
   "name": "python",
   "nbconvert_exporter": "python",
   "pygments_lexer": "ipython3",
   "version": "3.12.7"
  }
 },
 "nbformat": 4,
 "nbformat_minor": 2
}

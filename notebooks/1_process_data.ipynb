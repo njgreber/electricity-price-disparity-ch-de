{
 "cells": [
  {
   "cell_type": "markdown",
   "metadata": {},
   "source": [
    "in the end, we want for each hour the following:\n",
    "- DE day-ahead price (+ market closing time)\n",
    "- CH day-ahead price (+ market closing time)\n",
    "- JAO Auction price DE->CH (+ market closing time)\n",
    "- JAO Auction price (CH->DE) (+ market closing time)\n",
    "- for each market closing time some additional predicted weather data or other potential explaining variables\n",
    "\n",
    "0. make sure, you have the some day-ahead price data for both countries in data/raw\n",
    "1. with functions from src/upstream.py we get the data from JAO and put it in data/external\n",
    "2. create a dataset with day-ahead price difference CH-DE per hour, both auction prices, and further variables for that hour that were known at market closing time."
   ]
  },
  {
   "cell_type": "code",
   "execution_count": 1,
   "metadata": {},
   "outputs": [],
   "source": [
    "import sys; sys.path.append(\"..\")\n",
    "\n",
    "import pandas as pd\n",
    "import requests\n",
    "import ast\n",
    "from datetime import datetime, timedelta\n",
    "from calendar import monthrange"
   ]
  },
  {
   "cell_type": "code",
   "execution_count": 2,
   "metadata": {},
   "outputs": [],
   "source": [
    "# Import the fetch_auction_data function\n",
    "from src.datafeed.upstream import fetch_auction_data\n",
    "\n",
    "from src.config import KEY"
   ]
  },
  {
   "cell_type": "markdown",
   "metadata": {},
   "source": [
    "Download the data from JAO (This data is in CET/CEST!)\n",
    "\n",
    "The dataframe in the first year start on 2th January."
   ]
  },
  {
   "cell_type": "code",
   "execution_count": 3,
   "metadata": {},
   "outputs": [
    {
     "name": "stderr",
     "output_type": "stream",
     "text": [
      "/Users/research/Desktop/electricity-price-disparity-ch-de/notebooks/../src/datafeed/upstream.py:75: FutureWarning: The behavior of DataFrame concatenation with empty or all-NA entries is deprecated. In a future version, this will no longer exclude empty or all-NA columns when determining the result dtypes. To retain the old behavior, exclude the relevant entries before the concat operation.\n",
      "  combined_df = pd.concat(dfs, ignore_index=True)\n",
      "/Users/research/Desktop/electricity-price-disparity-ch-de/notebooks/../src/datafeed/upstream.py:75: FutureWarning: The behavior of DataFrame concatenation with empty or all-NA entries is deprecated. In a future version, this will no longer exclude empty or all-NA columns when determining the result dtypes. To retain the old behavior, exclude the relevant entries before the concat operation.\n",
      "  combined_df = pd.concat(dfs, ignore_index=True)\n"
     ]
    }
   ],
   "source": [
    "# Define your API key (replace with your actual API key)\n",
    "api_key = KEY\n",
    "\n",
    "# Set the start and end years\n",
    "start_year = 2016\n",
    "end_year = 2022\n",
    "\n",
    "corridors = [\"de-ch\", \"ch-de\"]\n",
    "\n",
    "for corridor in corridors:\n",
    "\n",
    "    # Call the function to fetch and process the data\n",
    "    auction_data = fetch_auction_data(start_year, end_year, api_key, corridor)\n",
    "\n",
    "    # Optionally, display the first few rows of the combined DataFrame\n",
    "    auction_data.head()\n"
   ]
  },
  {
   "cell_type": "markdown",
   "metadata": {},
   "source": [
    "Processing the data.\n",
    "x until now, all data is in cet/cest. \n",
    "\n",
    "To do:\n",
    "- DE-LU is in quarter-hours. we should weigh the prices with the forecasted loads so we also get hourly data there. \n",
    "- make functions in src/datafeed/downstream.py to create a dataframe in data/processed\n",
    "    - add data for forecasted loads for both regions (this is before the market closes, estimate by the Transmission System Operators)\n",
    "    - add hourly forecasted weather data (?)\n",
    "    - add other forecasted data (?)\n",
    "    - put all in one easily accessible dataframe for the analysis."
   ]
  },
  {
   "cell_type": "code",
   "execution_count": null,
   "metadata": {},
   "outputs": [],
   "source": [
    "# Collect day-ahead prices into a single DataFrame (WIP)\n",
    "\n",
    "years = range(2015, 2023)  # Adjust years as necessary\n",
    "path = \"../data/raw/\"  # Update with your actual path\n",
    "\n",
    "bidding_zones = [\"CH\", \"DE-LU\", \"DE-AT-LU\"]\n",
    "bidding_zones_others = [\"DE-LU\", \"DE-AT-LU\"]\n",
    "years = [2015, 2016, 2017, 2018, 2019, 2020, 2021, 2022]\n",
    "\n",
    "# Dictionary to store dataframes\n",
    "dataframes = {}\n",
    "\n",
    "# Dictionary to store concatenated dataframes for each bidding zone\n",
    "df = {}\n",
    "\n",
    "for bidding_zone in bidding_zones:\n",
    "    # List to hold dataframes for a particular bidding zone\n",
    "    dfs = []\n",
    "    for year in years:\n",
    "        # Create a unique key for each dataframe\n",
    "        try:\n",
    "            key = f\"{bidding_zone}_{year}\"\n",
    "            file_name = f\"{path}{bidding_zone}_Day-ahead Prices_{year}.csv\"\n",
    "\n",
    "            # import csv file and store it in the dictionary\n",
    "            dataframes[key] = pd.read_csv(file_name)\n",
    "            dfs.append(dataframes[key])\n",
    "        except:\n",
    "            pass\n",
    "    # concatenating dataframes for each bidding zone\n",
    "    df[bidding_zone] = pd.concat(dfs)\n",
    "\n",
    "    # Ensure the index is a datetime\n",
    "    df[bidding_zone][\"MTU (CET/CEST)\"] = pd.to_datetime(\n",
    "        df[bidding_zone][\"MTU (CET/CEST)\"].str.split(\" - \").str[0],\n",
    "        dayfirst=True,\n",
    "        errors=\"coerce\",\n",
    "    )\n",
    "    df[bidding_zone].sort_values(by=\"MTU (CET/CEST)\", inplace=True)\n",
    "    df[bidding_zone].set_index(\"MTU (CET/CEST)\", inplace=True)\n",
    "    df[bidding_zone][\"Day-ahead Price [EUR/MWh]\"] = pd.to_numeric(\n",
    "        df[bidding_zone][\"Day-ahead Price [EUR/MWh]\"], errors=\"coerce\"\n",
    "    )\n"
   ]
  }
 ],
 "metadata": {
  "kernelspec": {
   "display_name": "pytorching",
   "language": "python",
   "name": "python3"
  },
  "language_info": {
   "codemirror_mode": {
    "name": "ipython",
    "version": 3
   },
   "file_extension": ".py",
   "mimetype": "text/x-python",
   "name": "python",
   "nbconvert_exporter": "python",
   "pygments_lexer": "ipython3",
   "version": "3.9.18"
  }
 },
 "nbformat": 4,
 "nbformat_minor": 2
}

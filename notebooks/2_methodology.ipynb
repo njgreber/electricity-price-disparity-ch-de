{
 "cells": [
  {
   "cell_type": "markdown",
   "metadata": {},
   "source": [
    "## Methodology for Statistical Analysis of Cross-Border Electricity Prices\n",
    "\n",
    "This analysis explores the relationship between cross-border electricity auction prices and day-ahead market prices in Switzerland (CH) and Germany-Luxembourg (DE-LU). Efficient market theory suggests that the price difference between markets should align with transaction costs. Deviations may indicate inefficiencies or barriers in the market.\n",
    "\n",
    "### Data\n",
    "- **Quarter-hourly Prices**: Covering 2019–2023.\n",
    "  - $P_t^{CH}$: Day-ahead price in Switzerland.\n",
    "  - $P_t^{DE-LU}$: Day-ahead price in Germany-Luxembourg.\n",
    "  - $P_t^{auction DE-CH}$: Cross-border auction price for electricity from CH to DE.\n",
    "  - $P_t^{auction CH-DE}$: Cross-border auction price for electricity from DE to CH.\n",
    "- All prices are in **EUR/MWh**.\n",
    "\n",
    "### Variables\n",
    "1. **Error Term**:\n",
    "   $$\n",
    "   error_t = P_t^{DE-LU} - P_t^{CH} - P_t^{auction DE-CH} + P_t^{auction CH-DE}\n",
    "   $$\n",
    "   This term measures deviations between the Swiss-German price spread and the auction price. Deviations could reflect inefficiencies in cross-border pricing.\n",
    "\n",
    "2. **Normalized Error Term**:\n",
    "   $$\n",
    "   norm\\_error_t = \\frac{error_t}{\\frac{P_t^{CH} + P_t^{DE-LU}}{2}}\n",
    "   $$\n",
    "   Normalizing by the average price of the two markets removes effects caused by price level differences, market growth, or inflation.\n"
   ]
  },
  {
   "cell_type": "markdown",
   "metadata": {},
   "source": [
    "### Statistical Tests\n",
    "\n",
    "1. Stationarity Test: Augmented Dickey-Fuller Test\n",
    "- **Purpose**: Check whether the series \\( error_t \\) is stationary (no persistent deviations over time).\n",
    "- **Null Hypothesis ($H_0$)**: The series has a unit root (non-stationary, with deviations that persist).\n",
    "- **Alternative Hypothesis ($H_1$)**: The series is stationary (mean-reverting deviations).\n",
    "- **Importance**:\n",
    "  - A stationary $error_t$ supports market efficiency, suggesting that price deviations are temporary and corrected over time.\n",
    "  - Non-stationarity could imply inefficiencies, structural barriers, or persistent arbitrage opportunities."
   ]
  },
  {
   "cell_type": "markdown",
   "metadata": {},
   "source": [
    "2. HAC-Adjusted Mean Test\n",
    "- **Purpose**: Test whether the mean of $error_t$ equals zero.\n",
    "- **Null Hypothesis ($H_0$)**: $E[error_t] = 0$, meaning deviations balance out over time.\n",
    "- **Adjustments**:\n",
    "  - **Newey-West HAC Estimator**: Accounts for autocorrelation and heteroskedasticity in the time series.\n",
    "- **Importance**:\n",
    "  - If $error_t$ has a non-zero mean, it suggests systematic arbitrage opportunities.\n"
   ]
  },
  {
   "cell_type": "markdown",
   "metadata": {},
   "source": [
    "3. Autocorrelation Test (Lag 192)\n",
    "- **Purpose**: Examine correlations at lag 96 (one full day, capturing market cycles).\n",
    "- **Formula**:\n",
    "  $$\n",
    "  \\rho_{192} = \\frac{\\text{Cov}(error_t, error_{t-192})}{\\text{Var}(error_t)}\n",
    "  $$\n",
    "- **Importance**:\n",
    "  - Day-ahead markets rely on forecasts and incomplete information, leading to expected autocorrelation at lag 96 (one day).\n",
    "  - Significant autocorrelation at lag 192 (two days) suggests persistent dependencies in mispricing, despite full knowledge of prior realizations when making forecasts for the second day.\n",
    "  - This could indicate inefficiencies tied to forecast errors or cyclical market patterns.\n",
    "\n",
    "- **Example of Autocorrelation in Errors**\n",
    "  - **Day 1, 12:45**: The error \\( error_{12:45, \\text{Day 1}} \\) occurs (e.g., Swiss prices deviate from expected values).  \n",
    "  - **Lag 96 (12:45 on Day 2)**:  \n",
    "    - Significant autocorrelation means the error at **12:45 on Day 2** \\( (error_{12:45, \\text{Day 2}}) \\) is not random.\n",
    "    - It could be positively or negatively correlated with the error from Day 1, indicating systematic dependence."
   ]
  },
  {
   "cell_type": "markdown",
   "metadata": {},
   "source": [
    "4. Normalized Variance Trend Test\n",
    "- **Purpose**: Detect whether the variance of $norm\\_error_t$ changes systematically over time.\n",
    "- **Method**:\n",
    "  - Fit a linear regression to the normalized error:\n",
    "    $$\n",
    "    norm\\_error_t = \\alpha + \\beta t + \\epsilon_t\n",
    "    $$\n",
    "  - **Null Hypothesis ($H_0$)**: $\\beta = 0$, indicating no trend in variance.\n",
    "  - **Alternative Hypothesis ($H_1$)**: $\\beta \\neq 0$, indicating increasing or decreasing variance.\n",
    "- **Importance**:\n",
    "  - An increasing variance suggests growing uncertainty or inefficiencies in cross-border price convergence.\n",
    "  - Normalization accounts for potential changes in price levels, market size, or seasonal effects.\n"
   ]
  }
 ],
 "metadata": {
  "kernelspec": {
   "display_name": "energy_project_uzh",
   "language": "python",
   "name": "python3"
  },
  "language_info": {
   "name": "python",
   "version": "3.12.7"
  }
 },
 "nbformat": 4,
 "nbformat_minor": 2
}

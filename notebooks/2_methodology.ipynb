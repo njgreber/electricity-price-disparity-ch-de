{
 "cells": [
  {
   "cell_type": "markdown",
   "metadata": {},
   "source": [
    "## Methodology for Statistical Analysis of Cross-Border Electricity Prices\n",
    "\n",
    "This analysis explores the relationship between cross-border electricity auction prices and day-ahead market prices in Switzerland (CH) and Germany-Luxembourg (DE-LU). Efficient market theory suggests that the price difference between markets should align with transaction costs. Deviations may indicate inefficiencies or barriers in the market.\n",
    "\n",
    "### Data\n",
    "- **Quarter-hourly Prices**: Covering 2019–2023.\n",
    "  - $P_t^{CH}$: Day-ahead price in Switzerland.\n",
    "  - $P_t^{DE-LU}$: Day-ahead price in Germany-Luxembourg.\n",
    "  - $P_t^{auction}$: Cross-border auction price for electricity from CH to DE or vice versa.\n",
    "- All prices are in **EUR/MWh**.\n",
    "\n",
    "### Variables\n",
    "1. **Error Term**:\n",
    "   $$\n",
    "   error_t = P_t^{CH} - P_t^{DE-LU} - P_t^{auction}\n",
    "   $$\n",
    "   This term measures deviations between the Swiss-German price spread and the auction price. Deviations could reflect inefficiencies in cross-border pricing.\n",
    "\n",
    "2. **Normalized Error Term**:\n",
    "   $$\n",
    "   norm\\_error_t = \\frac{error_t}{\\frac{P_t^{CH} + P_t^{DE-LU}}{2}}\n",
    "   $$\n",
    "   Normalizing by the average price of the two markets removes effects caused by price level differences, market growth, or inflation.\n"
   ]
  },
  {
   "cell_type": "markdown",
   "metadata": {},
   "source": [
    "### Statistical Tests\n",
    "\n",
    "1. Stationarity Test: Augmented Dickey-Fuller Test\n",
    "- **Purpose**: Check whether the series \\( error_t \\) is stationary (no persistent deviations over time).\n",
    "- **Null Hypothesis ($H_0$)**: The series has a unit root (non-stationary, with deviations that persist).\n",
    "- **Alternative Hypothesis ($H_1$)**: The series is stationary (mean-reverting deviations).\n",
    "- **Importance**:\n",
    "  - A stationary $error_t$ supports market efficiency, suggesting that price deviations are temporary and corrected over time.\n",
    "  - Non-stationarity could imply inefficiencies, structural barriers, or persistent arbitrage opportunities.\n",
    "- **Formula**:\n",
    "  $$\n",
    "  \\tau = \\frac{\\hat{\\beta} - 1}{SE(\\hat{\\beta})}\n",
    "  $$\n",
    "  where $\\beta$ is the coefficient of lagged $error_t$ in the regression:\n",
    "  $$\n",
    "  \\Delta error_t = \\alpha + \\beta error_{t-1} + \\sum_{i=1}^k \\phi_i \\Delta error_{t-i} + \\epsilon_t\n",
    "  $$"
   ]
  }
 ],
 "metadata": {
  "kernelspec": {
   "display_name": "energy_project_uzh",
   "language": "python",
   "name": "python3"
  },
  "language_info": {
   "name": "python",
   "version": "3.12.7"
  }
 },
 "nbformat": 4,
 "nbformat_minor": 2
}

{
 "cells": [
  {
   "cell_type": "markdown",
   "metadata": {},
   "source": [
    "# Methodology\n",
    "\n",
    "(this methodology chapter is adapted to the analysis DE-CH.)\n",
    "\n",
    "## Variables\n",
    "\n",
    "The analysis uses hourly data from 2016 to 2023. Key variables are summarized below:\n",
    "\n",
    "| **Variable**            | **Description**                                                                                                              | **Unit**    |\n",
    "|--------------------------|------------------------------------------------------------------------------------------------------------------------------|-------------|\n",
    "| $p_t^{CH}$          | Day-ahead price in Switzerland                                                                                               | EUR/MWh     |\n",
    "| $p_t^{DE}$          | Day-ahead price in Germany-Austria-Luxembourg (Includes prices for the market region $DE-AT-LU$ before October 1, 2018, and $DE-LU$ thereafter) | EUR/MWh     |\n",
    "| $p_t^{CH \\rightarrow DE}$ | JAO Auction Price: Switzerland to Germany                                                                              | EUR/MWh     |\n",
    "| $p_t^{DE\\rightarrow CH}$ | JAO Auction Price: Germany to Switzerland                                                                               | EUR/MWh     |\n",
    "| Installed Capacity       | Yearly installed PV capacity in Switzerland                                                                                 | MW          |\n",
    "| Number of PV Units       | Total number of installed photovoltaic units                                                                                | Count       |\n",
    "\n",
    "*Table: Key variables used in the analysis.*\n",
    "\n",
    "The error term, denoted as $\\delta_t$, is defined as:\n",
    "\n",
    "$$\n",
    "\\delta_t = p_t^{DE} + p_t^{DE \\rightarrow CH} - p_t^{CH} - p_t^{CH \\rightarrow DE}.\n",
    "$$\n",
    "\n",
    "This term measures deviations between the Swiss-German price spread and the auction price, potentially reflecting inefficiencies in cross-border pricing.\n",
    "\n",
    "The normalized error term $\\hat{\\delta}_t$ is:\n",
    "\n",
    "$$\n",
    "\\hat{\\delta}_t = \\frac{\\delta_t}{(p_t^{CH} + p_t^{DE}) / 2}.\n",
    "$$\n",
    "\n",
    "This normalization accounts for different price levels of the day-ahead prices over time.\n"
   ]
  },
  {
   "cell_type": "markdown",
   "metadata": {},
   "source": [
    "\n",
    "## Statistical Tests\n",
    "\n",
    "To evaluate market efficiency and identify potential inefficiencies in cross-border electricity pricing, we apply a series of statistical tests to the error term $\\delta_t$ and its normalized counterpart $\\hat{\\delta}_t$. These tests assess whether pricing deviations are temporary, systematic, or indicative of broader structural issues.\n",
    "\n",
    "### Stationarity Test: Augmented Dickey-Fuller (ADF)\n",
    "\n",
    "The first test examines whether the error term $\\delta_t$ is stationary, which is a key property for market efficiency. A stationary series implies that deviations are temporary and mean-reverting, while non-stationarity indicates persistent pricing inefficiencies. We use the Augmented Dickey-Fuller (ADF) test to formally evaluate this property.\n",
    "\n",
    "**Hypotheses:**\n",
    "\n",
    "- **Null Hypothesis ($H_0$)**: $\\delta_t$ has a unit root, indicating non-stationarity.\n",
    "- **Alternative Hypothesis ($H_1$)**: $\\delta_t$ is stationary, suggesting mean-reverting deviations."
   ]
  },
  {
   "cell_type": "markdown",
   "metadata": {},
   "source": [
    "### Mean Test with HAC Adjustment\n",
    "\n",
    "To investigate whether the average error term deviates systematically from zero, we conduct a mean test on $\\delta_t$. Under efficient market conditions, pricing deviations should balance out over time, resulting in a mean of zero.\n",
    "\n",
    "The Newey-West Heteroskedasticity and Autocorrelation Consistent (HAC) estimator is applied to ensure robust inference, accounting for potential autocorrelation and heteroskedasticity.\n",
    "\n",
    "**Hypotheses:**\n",
    "\n",
    "- **Null Hypothesis ($H_0$)**: $\\mathbb{E}[\\delta_t] = 0$, implying no systematic mispricing.\n",
    "- **Alternative Hypothesis ($H_1$)**: $\\mathbb{E}[\\delta_t] \\neq 0$, indicating persistent pricing discrepancies."
   ]
  },
  {
   "cell_type": "markdown",
   "metadata": {},
   "source": [
    "### Autocorrelation Analysis\n",
    "\n",
    "The temporal dependencies in $\\delta_t$ are analyzed using autocorrelation at lag 24 (one day).\n",
    "\n",
    "The autocorrelation coefficient is defined as:\n",
    "\n",
    "$$\n",
    "\\rho_{24} = \\frac{\\text{Cov}(\\delta_t, \\delta_{t-24})}{\\text{Var}(\\delta_t)}.\n",
    "$$\n",
    "\n",
    "Temporal dependencies in $\\delta_t$ could arise from systematic forecast errors or cyclical patterns, potentially revealing inefficiencies in cross-border price adjustments."
   ]
  },
  {
   "cell_type": "markdown",
   "metadata": {},
   "source": [
    "\n",
    "### Variance Trend Analysis\n",
    "\n",
    "To investigate whether the variability of pricing deviations changes systematically over time, we analyze the normalized error term $\\hat{\\delta}_t$. \n",
    "\n",
    "The rolling variance of $\\hat{\\delta}_t$ is computed over a fixed time window (e.g., 30 days) to capture short-term variability. A linear regression model is then fitted to detect systematic trends:\n",
    "\n",
    "$$\n",
    "\\sigma_t(\\hat{\\delta}_t) = \\alpha + \\beta t + \\epsilon_t,\n",
    "$$\n",
    "\n",
    "where $\\beta$ represents the temporal trend in variance.\n",
    "\n",
    "**Hypotheses:**\n",
    "\n",
    "- **Null Hypothesis ($H_0$)**: $\\beta = 0$, indicating no systematic trend in variance.\n",
    "- **Alternative Hypothesis ($H_1$)**: $\\beta \\neq 0$, suggesting a statistically significant trend in variance over time.\n",
    "\n",
    "### Variance Ratio Test\n",
    "\n",
    "To assess changes in variability, we apply a variance ratio test comparing the variance of $\\hat{\\delta}_t$ between two distinct time periods.\n",
    "\n",
    "The variance ratio, which follows an F-distribution, is defined as:\n",
    "\n",
    "$$\n",
    "F = \\frac{\\text{Var}(\\hat{\\delta}_t \\text{ (later period)})}{\\text{Var}(\\hat{\\delta}_t \\text{ (earlier period)})} \\sim F(n_1 - 1, n_2 - 1),\n",
    "$$\n",
    "\n",
    "where $n_1$ and $n_2$ are the number of observations in the later and earlier periods, respectively.\n",
    "\n",
    "**Hypotheses:**\n",
    "\n",
    "- $H_0$: The variances in the two periods are equal.\n",
    "- $H_1$: The variances in the two periods are not equal.\n",
    "\n",
    "A significant result ($p < 0.05$) suggests that variability in cross-border pricing deviations has changed between the two periods.\n"
   ]
  }
 ],
 "metadata": {
  "kernelspec": {
   "display_name": "energy_project_uzh",
   "language": "python",
   "name": "python3"
  },
  "language_info": {
   "name": "python",
   "version": "3.12.7"
  }
 },
 "nbformat": 4,
 "nbformat_minor": 2
}

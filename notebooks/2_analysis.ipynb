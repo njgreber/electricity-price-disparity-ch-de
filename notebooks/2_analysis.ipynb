{
 "cells": [
  {
   "cell_type": "code",
   "execution_count": null,
   "metadata": {},
   "outputs": [],
   "source": [
    "\n",
    "import pandas as pd\n",
    "import matplotlib.pyplot as plt"
   ]
  },
  {
   "cell_type": "code",
   "execution_count": 7,
   "metadata": {},
   "outputs": [],
   "source": [
    "# makes the plots readable\n",
    "\n",
    "plt.rcParams.update({\n",
    "   'font.size': 12,\n",
    "   'axes.labelsize': 12,\n",
    "   'axes.titlesize': 14,\n",
    "   'xtick.labelsize': 11,\n",
    "   'ytick.labelsize': 11,\n",
    "   'legend.fontsize': 11\n",
    "})"
   ]
  },
  {
   "cell_type": "code",
   "execution_count": null,
   "metadata": {},
   "outputs": [],
   "source": [
    "df = pd.read_csv('../data/processed/merged_data.csv', index_col=0, parse_dates=True)\n",
    "\n",
    "df = df.replace(['empty', 'n/e'], pd.NA)\n",
    "df = df.apply(pd.to_numeric, errors='coerce')"
   ]
  },
  {
   "cell_type": "code",
   "execution_count": null,
   "metadata": {},
   "outputs": [],
   "source": [
    "# Calculate daily averages for prices and auction data\n",
    "weekly_df = df.resample('W').mean()\n",
    "\n",
    "# Calculate price differences \n",
    "weekly_df['DE-LU_minus_CH'] = weekly_df['DE-LU'] - weekly_df['CH']\n",
    "weekly_df['DE-AT-LU_minus_CH'] = weekly_df['DE-AT-LU'] - weekly_df['CH']\n",
    "\n",
    "plt.figure(figsize=(12, 6))\n",
    "\n",
    "# Plot DE-LU minus CH price difference\n",
    "plt.plot(\n",
    "   weekly_df.index,\n",
    "   weekly_df['DE-LU_minus_CH'],\n",
    "   label='Day-Ahead Price Difference',\n",
    "   color='blue'\n",
    ")\n",
    "\n",
    "# Fill between price difference and auction price\n",
    "plt.fill_between(\n",
    "   weekly_df.index,\n",
    "   weekly_df['DE-LU_minus_CH'],\n",
    "   weekly_df['DE-LU_minus_CH'] + weekly_df['de-ch_auctionPrice'],\n",
    "   color='skyblue',\n",
    "   alpha=0.3,\n",
    "   label='Auction Price'\n",
    ")\n",
    "\n",
    "plt.ylabel('Daily Average Price [EUR/MWh]')\n",
    "plt.title('Daily Average Day-ahead Price Difference (DE-LU minus CH) and Auction Price')\n",
    "plt.legend()\n",
    "plt.grid(True)\n",
    "plt.show()\n",
    "\n",
    "# Same plot for DE-AT-LU\n",
    "plt.figure(figsize=(12, 6))\n",
    "plt.plot(\n",
    "   weekly_df.index,\n",
    "   weekly_df['DE-AT-LU_minus_CH'],\n",
    "   label='Day-Ahead Price Difference',\n",
    "   color='blue'\n",
    ")\n",
    "\n",
    "plt.fill_between(\n",
    "   weekly_df.index,\n",
    "   weekly_df['DE-AT-LU_minus_CH'],\n",
    "   weekly_df['DE-AT-LU_minus_CH'] + weekly_df['de-ch_auctionPrice'],\n",
    "   color='skyblue',\n",
    "   alpha=0.3,\n",
    "   label='Auction Price'\n",
    ")\n",
    "\n",
    "plt.ylabel('Daily Average Price [EUR/MWh]')\n",
    "plt.title('Daily Average Day-ahead Price Difference (DE-AT-LU minus CH) and Auction Price')\n",
    "plt.legend()\n",
    "plt.grid(True)\n",
    "plt.show()"
   ]
  },
  {
   "cell_type": "code",
   "execution_count": null,
   "metadata": {},
   "outputs": [],
   "source": [
    "# Calculate hourly price difference\n",
    "df['CH_minus_DE'] = df['CH'] - df['DE-LU']\n",
    "\n",
    "# Analyze error distribution\n",
    "error = df['CH_minus_DE'] - df['de-ch_auctionPrice']\n",
    "plt.figure(figsize=(12, 6))\n",
    "plt.hist(error.dropna(), bins=100, alpha=0.75, color='blue', edgecolor='black')\n",
    "plt.xlabel('Error [EUR/MWh]')\n",
    "plt.ylabel('Frequency')\n",
    "plt.title('Error Distribution (CH - DE minus Auction Price)')\n",
    "plt.grid(True)\n",
    "plt.show()\n",
    "\n",
    "# Analyze variance at different times of the day\n",
    "df['hour'] = df.index.hour\n",
    "hourly_variance = df.groupby('hour')['CH_minus_DE'].var()\n",
    "\n",
    "plt.figure(figsize=(12, 6))\n",
    "plt.plot(hourly_variance.index, hourly_variance, marker='o', linestyle='-', color='blue')\n",
    "plt.xlabel('Hour of the Day')\n",
    "plt.ylabel('Variance [EUR^2/MWh^2]')\n",
    "plt.title('Variance of Hourly Price Difference (CH - DE) by Hour of the Day')\n",
    "plt.grid(True)\n",
    "plt.show()"
   ]
  }
 ],
 "metadata": {
  "kernelspec": {
   "display_name": "Python 3",
   "language": "python",
   "name": "python3"
  },
  "language_info": {
   "codemirror_mode": {
    "name": "ipython",
    "version": 3
   },
   "file_extension": ".py",
   "mimetype": "text/x-python",
   "name": "python",
   "nbconvert_exporter": "python",
   "pygments_lexer": "ipython3",
   "version": "3.10.12"
  }
 },
 "nbformat": 4,
 "nbformat_minor": 2
}
